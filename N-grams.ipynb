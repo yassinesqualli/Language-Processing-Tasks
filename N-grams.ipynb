{
  "cells": [
    {
      "cell_type": "markdown",
      "id": "194ca00e",
      "metadata": {
        "id": "194ca00e"
      },
      "source": [
        "# N-gram Next-Word Prediction\n",
        "This notebook demonstrates feature creation from text using n-grams and builds a simple next-word prediction based on frequency."
      ]
    },
    {
      "cell_type": "markdown",
      "id": "b0718cfe",
      "metadata": {
        "id": "b0718cfe"
      },
      "source": [
        "## Step 1: Install and import dependencies"
      ]
    },
    {
      "cell_type": "code",
      "execution_count": 1,
      "id": "e74fb7df",
      "metadata": {
        "id": "e74fb7df"
      },
      "outputs": [],
      "source": [
        "!pip install -q nltk pandas"
      ]
    },
    {
      "cell_type": "markdown",
      "id": "7f4c1358",
      "metadata": {
        "id": "7f4c1358"
      },
      "source": [
        "## Step 2: Download and load the Brown corpus"
      ]
    },
    {
      "cell_type": "code",
      "execution_count": 2,
      "id": "9528c87a",
      "metadata": {
        "colab": {
          "base_uri": "https://localhost:8080/"
        },
        "id": "9528c87a",
        "outputId": "f3569246-8881-4b85-83a6-c8edf2e2d7db"
      },
      "outputs": [
        {
          "output_type": "stream",
          "name": "stderr",
          "text": [
            "[nltk_data] Downloading package brown to /root/nltk_data...\n",
            "[nltk_data]   Unzipping corpora/brown.zip.\n",
            "[nltk_data] Downloading package punkt to /root/nltk_data...\n",
            "[nltk_data]   Unzipping tokenizers/punkt.zip.\n"
          ]
        },
        {
          "output_type": "execute_result",
          "data": {
            "text/plain": [
              "(981716,\n",
              " ['the',\n",
              "  'fulton',\n",
              "  'county',\n",
              "  'grand',\n",
              "  'jury',\n",
              "  'said',\n",
              "  'friday',\n",
              "  'an',\n",
              "  'investigation',\n",
              "  'of',\n",
              "  'recent',\n",
              "  'primary',\n",
              "  'election',\n",
              "  'produced',\n",
              "  'no',\n",
              "  'evidence',\n",
              "  'that',\n",
              "  'any',\n",
              "  'irregularities',\n",
              "  'took'])"
            ]
          },
          "metadata": {},
          "execution_count": 2
        }
      ],
      "source": [
        "import nltk\n",
        "nltk.download('brown')\n",
        "nltk.download('punkt')\n",
        "from nltk.corpus import brown\n",
        "import pandas as pd\n",
        "import re\n",
        "\n",
        "# Load words and remove punctuation tokens\n",
        "tokens = [w.lower() for w in brown.words() if re.match(r'^[A-Za-z]+$', w)]\n",
        "len(tokens), tokens[:20]"
      ]
    },
    {
      "cell_type": "markdown",
      "id": "7af1dff5",
      "metadata": {
        "id": "7af1dff5"
      },
      "source": [
        "## Step 3: Function to compute n-gram frequencies"
      ]
    },
    {
      "cell_type": "code",
      "execution_count": 3,
      "id": "350448f5",
      "metadata": {
        "colab": {
          "base_uri": "https://localhost:8080/",
          "height": 204
        },
        "id": "350448f5",
        "outputId": "e8920fb0-cd92-48f7-c218-1d3b191b44e6"
      },
      "outputs": [
        {
          "output_type": "execute_result",
          "data": {
            "text/plain": [
              "               ngram  frequency\n",
              "0         one of the        404\n",
              "1  the united states        337\n",
              "2         as well as        238\n",
              "3        some of the        179\n",
              "4         out of the        174"
            ],
            "text/html": [
              "\n",
              "  <div id=\"df-fae1fa51-7edf-4b02-b192-077f40a9cf28\" class=\"colab-df-container\">\n",
              "    <div>\n",
              "<style scoped>\n",
              "    .dataframe tbody tr th:only-of-type {\n",
              "        vertical-align: middle;\n",
              "    }\n",
              "\n",
              "    .dataframe tbody tr th {\n",
              "        vertical-align: top;\n",
              "    }\n",
              "\n",
              "    .dataframe thead th {\n",
              "        text-align: right;\n",
              "    }\n",
              "</style>\n",
              "<table border=\"1\" class=\"dataframe\">\n",
              "  <thead>\n",
              "    <tr style=\"text-align: right;\">\n",
              "      <th></th>\n",
              "      <th>ngram</th>\n",
              "      <th>frequency</th>\n",
              "    </tr>\n",
              "  </thead>\n",
              "  <tbody>\n",
              "    <tr>\n",
              "      <th>0</th>\n",
              "      <td>one of the</td>\n",
              "      <td>404</td>\n",
              "    </tr>\n",
              "    <tr>\n",
              "      <th>1</th>\n",
              "      <td>the united states</td>\n",
              "      <td>337</td>\n",
              "    </tr>\n",
              "    <tr>\n",
              "      <th>2</th>\n",
              "      <td>as well as</td>\n",
              "      <td>238</td>\n",
              "    </tr>\n",
              "    <tr>\n",
              "      <th>3</th>\n",
              "      <td>some of the</td>\n",
              "      <td>179</td>\n",
              "    </tr>\n",
              "    <tr>\n",
              "      <th>4</th>\n",
              "      <td>out of the</td>\n",
              "      <td>174</td>\n",
              "    </tr>\n",
              "  </tbody>\n",
              "</table>\n",
              "</div>\n",
              "    <div class=\"colab-df-buttons\">\n",
              "\n",
              "  <div class=\"colab-df-container\">\n",
              "    <button class=\"colab-df-convert\" onclick=\"convertToInteractive('df-fae1fa51-7edf-4b02-b192-077f40a9cf28')\"\n",
              "            title=\"Convert this dataframe to an interactive table.\"\n",
              "            style=\"display:none;\">\n",
              "\n",
              "  <svg xmlns=\"http://www.w3.org/2000/svg\" height=\"24px\" viewBox=\"0 -960 960 960\">\n",
              "    <path d=\"M120-120v-720h720v720H120Zm60-500h600v-160H180v160Zm220 220h160v-160H400v160Zm0 220h160v-160H400v160ZM180-400h160v-160H180v160Zm440 0h160v-160H620v160ZM180-180h160v-160H180v160Zm440 0h160v-160H620v160Z\"/>\n",
              "  </svg>\n",
              "    </button>\n",
              "\n",
              "  <style>\n",
              "    .colab-df-container {\n",
              "      display:flex;\n",
              "      gap: 12px;\n",
              "    }\n",
              "\n",
              "    .colab-df-convert {\n",
              "      background-color: #E8F0FE;\n",
              "      border: none;\n",
              "      border-radius: 50%;\n",
              "      cursor: pointer;\n",
              "      display: none;\n",
              "      fill: #1967D2;\n",
              "      height: 32px;\n",
              "      padding: 0 0 0 0;\n",
              "      width: 32px;\n",
              "    }\n",
              "\n",
              "    .colab-df-convert:hover {\n",
              "      background-color: #E2EBFA;\n",
              "      box-shadow: 0px 1px 2px rgba(60, 64, 67, 0.3), 0px 1px 3px 1px rgba(60, 64, 67, 0.15);\n",
              "      fill: #174EA6;\n",
              "    }\n",
              "\n",
              "    .colab-df-buttons div {\n",
              "      margin-bottom: 4px;\n",
              "    }\n",
              "\n",
              "    [theme=dark] .colab-df-convert {\n",
              "      background-color: #3B4455;\n",
              "      fill: #D2E3FC;\n",
              "    }\n",
              "\n",
              "    [theme=dark] .colab-df-convert:hover {\n",
              "      background-color: #434B5C;\n",
              "      box-shadow: 0px 1px 3px 1px rgba(0, 0, 0, 0.15);\n",
              "      filter: drop-shadow(0px 1px 2px rgba(0, 0, 0, 0.3));\n",
              "      fill: #FFFFFF;\n",
              "    }\n",
              "  </style>\n",
              "\n",
              "    <script>\n",
              "      const buttonEl =\n",
              "        document.querySelector('#df-fae1fa51-7edf-4b02-b192-077f40a9cf28 button.colab-df-convert');\n",
              "      buttonEl.style.display =\n",
              "        google.colab.kernel.accessAllowed ? 'block' : 'none';\n",
              "\n",
              "      async function convertToInteractive(key) {\n",
              "        const element = document.querySelector('#df-fae1fa51-7edf-4b02-b192-077f40a9cf28');\n",
              "        const dataTable =\n",
              "          await google.colab.kernel.invokeFunction('convertToInteractive',\n",
              "                                                    [key], {});\n",
              "        if (!dataTable) return;\n",
              "\n",
              "        const docLinkHtml = 'Like what you see? Visit the ' +\n",
              "          '<a target=\"_blank\" href=https://colab.research.google.com/notebooks/data_table.ipynb>data table notebook</a>'\n",
              "          + ' to learn more about interactive tables.';\n",
              "        element.innerHTML = '';\n",
              "        dataTable['output_type'] = 'display_data';\n",
              "        await google.colab.output.renderOutput(dataTable, element);\n",
              "        const docLink = document.createElement('div');\n",
              "        docLink.innerHTML = docLinkHtml;\n",
              "        element.appendChild(docLink);\n",
              "      }\n",
              "    </script>\n",
              "  </div>\n",
              "\n",
              "\n",
              "    <div id=\"df-5707ab3a-3df9-4605-b5fe-02139d590b48\">\n",
              "      <button class=\"colab-df-quickchart\" onclick=\"quickchart('df-5707ab3a-3df9-4605-b5fe-02139d590b48')\"\n",
              "                title=\"Suggest charts\"\n",
              "                style=\"display:none;\">\n",
              "\n",
              "<svg xmlns=\"http://www.w3.org/2000/svg\" height=\"24px\"viewBox=\"0 0 24 24\"\n",
              "     width=\"24px\">\n",
              "    <g>\n",
              "        <path d=\"M19 3H5c-1.1 0-2 .9-2 2v14c0 1.1.9 2 2 2h14c1.1 0 2-.9 2-2V5c0-1.1-.9-2-2-2zM9 17H7v-7h2v7zm4 0h-2V7h2v10zm4 0h-2v-4h2v4z\"/>\n",
              "    </g>\n",
              "</svg>\n",
              "      </button>\n",
              "\n",
              "<style>\n",
              "  .colab-df-quickchart {\n",
              "      --bg-color: #E8F0FE;\n",
              "      --fill-color: #1967D2;\n",
              "      --hover-bg-color: #E2EBFA;\n",
              "      --hover-fill-color: #174EA6;\n",
              "      --disabled-fill-color: #AAA;\n",
              "      --disabled-bg-color: #DDD;\n",
              "  }\n",
              "\n",
              "  [theme=dark] .colab-df-quickchart {\n",
              "      --bg-color: #3B4455;\n",
              "      --fill-color: #D2E3FC;\n",
              "      --hover-bg-color: #434B5C;\n",
              "      --hover-fill-color: #FFFFFF;\n",
              "      --disabled-bg-color: #3B4455;\n",
              "      --disabled-fill-color: #666;\n",
              "  }\n",
              "\n",
              "  .colab-df-quickchart {\n",
              "    background-color: var(--bg-color);\n",
              "    border: none;\n",
              "    border-radius: 50%;\n",
              "    cursor: pointer;\n",
              "    display: none;\n",
              "    fill: var(--fill-color);\n",
              "    height: 32px;\n",
              "    padding: 0;\n",
              "    width: 32px;\n",
              "  }\n",
              "\n",
              "  .colab-df-quickchart:hover {\n",
              "    background-color: var(--hover-bg-color);\n",
              "    box-shadow: 0 1px 2px rgba(60, 64, 67, 0.3), 0 1px 3px 1px rgba(60, 64, 67, 0.15);\n",
              "    fill: var(--button-hover-fill-color);\n",
              "  }\n",
              "\n",
              "  .colab-df-quickchart-complete:disabled,\n",
              "  .colab-df-quickchart-complete:disabled:hover {\n",
              "    background-color: var(--disabled-bg-color);\n",
              "    fill: var(--disabled-fill-color);\n",
              "    box-shadow: none;\n",
              "  }\n",
              "\n",
              "  .colab-df-spinner {\n",
              "    border: 2px solid var(--fill-color);\n",
              "    border-color: transparent;\n",
              "    border-bottom-color: var(--fill-color);\n",
              "    animation:\n",
              "      spin 1s steps(1) infinite;\n",
              "  }\n",
              "\n",
              "  @keyframes spin {\n",
              "    0% {\n",
              "      border-color: transparent;\n",
              "      border-bottom-color: var(--fill-color);\n",
              "      border-left-color: var(--fill-color);\n",
              "    }\n",
              "    20% {\n",
              "      border-color: transparent;\n",
              "      border-left-color: var(--fill-color);\n",
              "      border-top-color: var(--fill-color);\n",
              "    }\n",
              "    30% {\n",
              "      border-color: transparent;\n",
              "      border-left-color: var(--fill-color);\n",
              "      border-top-color: var(--fill-color);\n",
              "      border-right-color: var(--fill-color);\n",
              "    }\n",
              "    40% {\n",
              "      border-color: transparent;\n",
              "      border-right-color: var(--fill-color);\n",
              "      border-top-color: var(--fill-color);\n",
              "    }\n",
              "    60% {\n",
              "      border-color: transparent;\n",
              "      border-right-color: var(--fill-color);\n",
              "    }\n",
              "    80% {\n",
              "      border-color: transparent;\n",
              "      border-right-color: var(--fill-color);\n",
              "      border-bottom-color: var(--fill-color);\n",
              "    }\n",
              "    90% {\n",
              "      border-color: transparent;\n",
              "      border-bottom-color: var(--fill-color);\n",
              "    }\n",
              "  }\n",
              "</style>\n",
              "\n",
              "      <script>\n",
              "        async function quickchart(key) {\n",
              "          const quickchartButtonEl =\n",
              "            document.querySelector('#' + key + ' button');\n",
              "          quickchartButtonEl.disabled = true;  // To prevent multiple clicks.\n",
              "          quickchartButtonEl.classList.add('colab-df-spinner');\n",
              "          try {\n",
              "            const charts = await google.colab.kernel.invokeFunction(\n",
              "                'suggestCharts', [key], {});\n",
              "          } catch (error) {\n",
              "            console.error('Error during call to suggestCharts:', error);\n",
              "          }\n",
              "          quickchartButtonEl.classList.remove('colab-df-spinner');\n",
              "          quickchartButtonEl.classList.add('colab-df-quickchart-complete');\n",
              "        }\n",
              "        (() => {\n",
              "          let quickchartButtonEl =\n",
              "            document.querySelector('#df-5707ab3a-3df9-4605-b5fe-02139d590b48 button');\n",
              "          quickchartButtonEl.style.display =\n",
              "            google.colab.kernel.accessAllowed ? 'block' : 'none';\n",
              "        })();\n",
              "      </script>\n",
              "    </div>\n",
              "\n",
              "    </div>\n",
              "  </div>\n"
            ],
            "application/vnd.google.colaboratory.intrinsic+json": {
              "type": "dataframe",
              "summary": "{\n  \"name\": \"ngram_frequencies(tokens, 3)\",\n  \"rows\": 5,\n  \"fields\": [\n    {\n      \"column\": \"ngram\",\n      \"properties\": {\n        \"dtype\": \"string\",\n        \"num_unique_values\": 5,\n        \"samples\": [\n          \"the united states\",\n          \"out of the\",\n          \"as well as\"\n        ],\n        \"semantic_type\": \"\",\n        \"description\": \"\"\n      }\n    },\n    {\n      \"column\": \"frequency\",\n      \"properties\": {\n        \"dtype\": \"number\",\n        \"std\": 101,\n        \"min\": 174,\n        \"max\": 404,\n        \"num_unique_values\": 5,\n        \"samples\": [\n          337,\n          174,\n          238\n        ],\n        \"semantic_type\": \"\",\n        \"description\": \"\"\n      }\n    }\n  ]\n}"
            }
          },
          "metadata": {},
          "execution_count": 3
        }
      ],
      "source": [
        "from collections import Counter\n",
        "\n",
        "def ngram_frequencies(tokens, n):\n",
        "    \"\"\"\n",
        "    Return a DataFrame with n-grams and their frequencies.\n",
        "    \"\"\"\n",
        "    ngrams = zip(*(tokens[i:] for i in range(n)))\n",
        "    freq = Counter(ngrams)\n",
        "    df = pd.DataFrame(\n",
        "        [{'ngram': ' '.join(gram), 'frequency': count} for gram, count in freq.items()]\n",
        "    )\n",
        "    return df.sort_values('frequency', ascending=False).reset_index(drop=True)\n",
        "\n",
        "# Example: top 5 trigrams\n",
        "ngram_frequencies(tokens, 3).head()"
      ]
    },
    {
      "cell_type": "markdown",
      "id": "b26a2360",
      "metadata": {
        "id": "b26a2360"
      },
      "source": [
        "## Step 4: Next-word prediction function"
      ]
    },
    {
      "cell_type": "code",
      "execution_count": 4,
      "id": "98c709c0",
      "metadata": {
        "colab": {
          "base_uri": "https://localhost:8080/"
        },
        "id": "98c709c0",
        "outputId": "4b9d7a26-20a6-4ae7-b8e3-801bc8577704"
      },
      "outputs": [
        {
          "output_type": "stream",
          "name": "stdout",
          "text": [
            "Context: 'the quick' -> Predictions: ['response', 'free', 'jerky', 'movement', 'just']\n",
            "Context: 'in the' -> Predictions: ['first', 'world', 'united', 'same', 'past']\n",
            "Context: 'new york' -> Predictions: ['city', 'times', 'central', 'and', 'the']\n"
          ]
        }
      ],
      "source": [
        "def predict_next(tokens, context, n=2, k=5):\n",
        "    \"\"\"\n",
        "    Given a context string and n, return top k next-word predictions based on n-grams.\n",
        "    \"\"\"\n",
        "    context_tokens = context.lower().split()\n",
        "    if len(context_tokens) < n-1:\n",
        "        raise ValueError(f\"Context must have at least {n-1} words for {n}-gram model\")\n",
        "    # Filter n-grams by context\n",
        "    ngrams = zip(*(tokens[i:] for i in range(n)))\n",
        "    freq = Counter(ngrams)\n",
        "    # Collect candidates where first n-1 match context\n",
        "    context_tuple = tuple(context_tokens[-(n-1):])\n",
        "    candidates = {\n",
        "        gram[-1]: count for gram, count in freq.items()\n",
        "        if gram[:-1] == context_tuple\n",
        "    }\n",
        "    # Return top k\n",
        "    top = Counter(candidates).most_common(k)\n",
        "    return [word for word, count in top]\n",
        "\n",
        "# Example predictions\n",
        "for ctx in ['the quick', 'in the', 'new york']:\n",
        "    print(f\"Context: '{ctx}' -> Predictions: {predict_next(tokens, ctx, n=3, k=5)}\")"
      ]
    },
    {
      "cell_type": "code",
      "source": [],
      "metadata": {
        "id": "EYu5yRzgIv16"
      },
      "id": "EYu5yRzgIv16",
      "execution_count": null,
      "outputs": []
    }
  ],
  "metadata": {
    "kernelspec": {
      "display_name": "Python 3",
      "language": "python",
      "name": "python3"
    },
    "language_info": {
      "name": "python",
      "version": "3.8"
    },
    "colab": {
      "provenance": []
    }
  },
  "nbformat": 4,
  "nbformat_minor": 5
}